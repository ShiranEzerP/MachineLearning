{
 "cells": [
  {
   "cell_type": "code",
   "execution_count": 15,
   "id": "e050151a-20e0-4e62-b17a-5defeb05efa1",
   "metadata": {},
   "outputs": [],
   "source": [
    "import pandas as pd\n",
    "import numpy as np\n",
    "import matplotlib.pyplot as plt\n",
    "from sklearn.preprocessing import StandardScaler\n",
    "from sklearn.pipeline import make_pipeline\n",
    "from sklearn.model_selection import train_test_split, RandomizedSearchCV, cross_val_score\n",
    "from sklearn.ensemble import RandomForestClassifier\n",
    "from imblearn.over_sampling import SMOTE\n",
    "from sklearn.metrics import accuracy_score, classification_report, precision_recall_curve\n",
    "from scipy.stats import randint\n",
    "from sklearn.model_selection import RandomizedSearchCV\n",
    "from sklearn.preprocessing import MinMaxScaler\n",
    "from joblib import dump, load"
   ]
  },
  {
   "cell_type": "code",
   "execution_count": 16,
   "id": "5455dba7-ecf6-400f-9adb-8e08802b55d0",
   "metadata": {},
   "outputs": [
    {
     "name": "stdout",
     "output_type": "stream",
     "text": [
      "<class 'pandas.core.frame.DataFrame'>\n",
      "RangeIndex: 299 entries, 0 to 298\n",
      "Data columns (total 13 columns):\n",
      " #   Column                    Non-Null Count  Dtype  \n",
      "---  ------                    --------------  -----  \n",
      " 0   age                       299 non-null    float64\n",
      " 1   anaemia                   299 non-null    int64  \n",
      " 2   creatinine_phosphokinase  299 non-null    int64  \n",
      " 3   diabetes                  299 non-null    int64  \n",
      " 4   ejection_fraction         299 non-null    int64  \n",
      " 5   high_blood_pressure       299 non-null    int64  \n",
      " 6   platelets                 299 non-null    float64\n",
      " 7   serum_creatinine          299 non-null    float64\n",
      " 8   serum_sodium              299 non-null    int64  \n",
      " 9   sex                       299 non-null    int64  \n",
      " 10  smoking                   299 non-null    int64  \n",
      " 11  time                      299 non-null    int64  \n",
      " 12  DEATH_EVENT               299 non-null    int64  \n",
      "dtypes: float64(3), int64(10)\n",
      "memory usage: 30.5 KB\n"
     ]
    }
   ],
   "source": [
    "import warnings \n",
    "warnings.filterwarnings('ignore')\n",
    "SEED = 0\n",
    "heart_data_orig = pd.read_csv('heart_failure_clinical_records_dataset.csv')\n",
    "heart_data_prepro = heart_data_orig.copy()\n",
    "\n",
    "################################################ Inspection of The Dataset ############################################\n",
    "heart_data_prepro.info()\n",
    "#No missing values in the data\n",
    "#all columns are numerical"
   ]
  },
  {
   "cell_type": "code",
   "execution_count": 17,
   "id": "1bbea4d4-2c33-4573-a397-7fbfd2175623",
   "metadata": {},
   "outputs": [
    {
     "data": {
      "text/html": [
       "<div>\n",
       "<style scoped>\n",
       "    .dataframe tbody tr th:only-of-type {\n",
       "        vertical-align: middle;\n",
       "    }\n",
       "\n",
       "    .dataframe tbody tr th {\n",
       "        vertical-align: top;\n",
       "    }\n",
       "\n",
       "    .dataframe thead th {\n",
       "        text-align: right;\n",
       "    }\n",
       "</style>\n",
       "<table border=\"1\" class=\"dataframe\">\n",
       "  <thead>\n",
       "    <tr style=\"text-align: right;\">\n",
       "      <th></th>\n",
       "      <th>age</th>\n",
       "      <th>anaemia</th>\n",
       "      <th>creatinine_phosphokinase</th>\n",
       "      <th>diabetes</th>\n",
       "      <th>ejection_fraction</th>\n",
       "      <th>high_blood_pressure</th>\n",
       "      <th>platelets</th>\n",
       "      <th>serum_creatinine</th>\n",
       "      <th>serum_sodium</th>\n",
       "      <th>sex</th>\n",
       "      <th>smoking</th>\n",
       "      <th>time</th>\n",
       "      <th>DEATH_EVENT</th>\n",
       "    </tr>\n",
       "  </thead>\n",
       "  <tbody>\n",
       "    <tr>\n",
       "      <th>0</th>\n",
       "      <td>75.0</td>\n",
       "      <td>0</td>\n",
       "      <td>582</td>\n",
       "      <td>0</td>\n",
       "      <td>20</td>\n",
       "      <td>1</td>\n",
       "      <td>265000.00</td>\n",
       "      <td>1.9</td>\n",
       "      <td>130</td>\n",
       "      <td>1</td>\n",
       "      <td>0</td>\n",
       "      <td>4</td>\n",
       "      <td>1</td>\n",
       "    </tr>\n",
       "    <tr>\n",
       "      <th>1</th>\n",
       "      <td>55.0</td>\n",
       "      <td>0</td>\n",
       "      <td>7861</td>\n",
       "      <td>0</td>\n",
       "      <td>38</td>\n",
       "      <td>0</td>\n",
       "      <td>263358.03</td>\n",
       "      <td>1.1</td>\n",
       "      <td>136</td>\n",
       "      <td>1</td>\n",
       "      <td>0</td>\n",
       "      <td>6</td>\n",
       "      <td>1</td>\n",
       "    </tr>\n",
       "    <tr>\n",
       "      <th>2</th>\n",
       "      <td>65.0</td>\n",
       "      <td>0</td>\n",
       "      <td>146</td>\n",
       "      <td>0</td>\n",
       "      <td>20</td>\n",
       "      <td>0</td>\n",
       "      <td>162000.00</td>\n",
       "      <td>1.3</td>\n",
       "      <td>129</td>\n",
       "      <td>1</td>\n",
       "      <td>1</td>\n",
       "      <td>7</td>\n",
       "      <td>1</td>\n",
       "    </tr>\n",
       "    <tr>\n",
       "      <th>3</th>\n",
       "      <td>50.0</td>\n",
       "      <td>1</td>\n",
       "      <td>111</td>\n",
       "      <td>0</td>\n",
       "      <td>20</td>\n",
       "      <td>0</td>\n",
       "      <td>210000.00</td>\n",
       "      <td>1.9</td>\n",
       "      <td>137</td>\n",
       "      <td>1</td>\n",
       "      <td>0</td>\n",
       "      <td>7</td>\n",
       "      <td>1</td>\n",
       "    </tr>\n",
       "    <tr>\n",
       "      <th>4</th>\n",
       "      <td>65.0</td>\n",
       "      <td>1</td>\n",
       "      <td>160</td>\n",
       "      <td>1</td>\n",
       "      <td>20</td>\n",
       "      <td>0</td>\n",
       "      <td>327000.00</td>\n",
       "      <td>2.7</td>\n",
       "      <td>116</td>\n",
       "      <td>0</td>\n",
       "      <td>0</td>\n",
       "      <td>8</td>\n",
       "      <td>1</td>\n",
       "    </tr>\n",
       "  </tbody>\n",
       "</table>\n",
       "</div>"
      ],
      "text/plain": [
       "    age  anaemia  creatinine_phosphokinase  diabetes  ejection_fraction  \\\n",
       "0  75.0        0                       582         0                 20   \n",
       "1  55.0        0                      7861         0                 38   \n",
       "2  65.0        0                       146         0                 20   \n",
       "3  50.0        1                       111         0                 20   \n",
       "4  65.0        1                       160         1                 20   \n",
       "\n",
       "   high_blood_pressure  platelets  serum_creatinine  serum_sodium  sex  \\\n",
       "0                    1  265000.00               1.9           130    1   \n",
       "1                    0  263358.03               1.1           136    1   \n",
       "2                    0  162000.00               1.3           129    1   \n",
       "3                    0  210000.00               1.9           137    1   \n",
       "4                    0  327000.00               2.7           116    0   \n",
       "\n",
       "   smoking  time  DEATH_EVENT  \n",
       "0        0     4            1  \n",
       "1        0     6            1  \n",
       "2        1     7            1  \n",
       "3        0     7            1  \n",
       "4        0     8            1  "
      ]
     },
     "execution_count": 17,
     "metadata": {},
     "output_type": "execute_result"
    }
   ],
   "source": [
    "heart_data_prepro.head()"
   ]
  },
  {
   "cell_type": "code",
   "execution_count": 18,
   "id": "b9143931-3ee1-44a1-95d0-5d53ccf5767c",
   "metadata": {},
   "outputs": [
    {
     "name": "stdout",
     "output_type": "stream",
     "text": [
      "Number of 0s (survived): 203\n",
      "Number of 1s (death events): 96\n"
     ]
    }
   ],
   "source": [
    "counts = heart_data_prepro['DEATH_EVENT'].value_counts()\n",
    "print(f\"Number of 0s (survived): {counts[0]}\")\n",
    "print(f\"Number of 1s (death events): {counts[1]}\")"
   ]
  },
  {
   "cell_type": "code",
   "execution_count": 19,
   "id": "fc2c9147-4f66-4e3e-821d-282e4f86db4c",
   "metadata": {},
   "outputs": [],
   "source": [
    "X = heart_data_prepro.drop(columns=['DEATH_EVENT'])\n",
    "y = heart_data_prepro['DEATH_EVENT']"
   ]
  },
  {
   "cell_type": "code",
   "execution_count": 20,
   "id": "cc61f914-34f5-481b-9639-152ca127a7b2",
   "metadata": {},
   "outputs": [],
   "source": [
    "X_train, X_test, y_train, y_test = train_test_split(X, y, test_size=0.2, random_state=42, stratify=y)"
   ]
  },
  {
   "cell_type": "markdown",
   "id": "9eb8bf86-7a9b-4474-ac74-5070cece85eb",
   "metadata": {},
   "source": [
    "## RF model Without SMOTE"
   ]
  },
  {
   "cell_type": "code",
   "execution_count": 22,
   "id": "e68d07d3-99db-4146-a6f4-d93a9f0d6c75",
   "metadata": {},
   "outputs": [
    {
     "name": "stdout",
     "output_type": "stream",
     "text": [
      "without SMOTE\n",
      "              precision    recall  f1-score   support\n",
      "\n",
      "           0       0.84      0.93      0.88        41\n",
      "           1       0.80      0.63      0.71        19\n",
      "\n",
      "    accuracy                           0.83        60\n",
      "   macro avg       0.82      0.78      0.79        60\n",
      "weighted avg       0.83      0.83      0.83        60\n",
      "\n"
     ]
    }
   ],
   "source": [
    "rf_model = RandomForestClassifier(max_depth=300, n_estimators=300, random_state=0)\n",
    "rf_model.fit(X_train, y_train)\n",
    "y_pred_no_smote = rf_model.predict(X_test)\n",
    "print(\"without SMOTE\")\n",
    "print(classification_report(y_test, y_pred_no_smote))"
   ]
  },
  {
   "cell_type": "code",
   "execution_count": 23,
   "id": "b4581cf8-3274-4395-8d6d-1db7f418328d",
   "metadata": {},
   "outputs": [
    {
     "name": "stdout",
     "output_type": "stream",
     "text": [
      "Accuracy: 0.8333333333333334\n"
     ]
    }
   ],
   "source": [
    "print(\"Accuracy:\", accuracy_score(y_test, y_pred_no_smote))"
   ]
  },
  {
   "cell_type": "markdown",
   "id": "fe4c1ac3-e40e-4a48-b18a-e4e89dfb72cb",
   "metadata": {},
   "source": [
    "## RF model 10 K-Fold score without SMOTE"
   ]
  },
  {
   "cell_type": "code",
   "execution_count": 25,
   "id": "d6ad6b53-081b-44b4-a45e-b4a5f319747a",
   "metadata": {},
   "outputs": [
    {
     "name": "stdout",
     "output_type": "stream",
     "text": [
      "Best fold index: 6\n",
      "Best fold accuracy: 0.9333333333333333\n"
     ]
    }
   ],
   "source": [
    "from sklearn.model_selection import StratifiedKFold\n",
    "\n",
    "kfold = StratifiedKFold(n_splits=10, shuffle=True)\n",
    "scores = cross_val_score(rf_model, X, y, cv=kfold, scoring='accuracy')\n",
    "scores = []\n",
    "splits = []\n",
    "for train_index, test_index in kfold.split(X, y):\n",
    "    splits.append((train_index, test_index))\n",
    "    rf_model.fit(X.iloc[train_index], y.iloc[train_index])\n",
    "    score = rf_model.score(X.iloc[test_index], y.iloc[test_index])\n",
    "    scores.append(score)\n",
    "\n",
    "scores = np.array(scores)\n",
    "best_fold_index = np.argmax(scores)\n",
    "print(\"Best fold index:\", best_fold_index)\n",
    "print(\"Best fold accuracy:\", scores[best_fold_index])"
   ]
  },
  {
   "cell_type": "code",
   "execution_count": 26,
   "id": "5551c475-8f42-4f4a-92db-26a9fcc05e82",
   "metadata": {},
   "outputs": [
    {
     "name": "stdout",
     "output_type": "stream",
     "text": [
      "Accuracy on best fold test set: 0.9333333333333333\n"
     ]
    }
   ],
   "source": [
    "X_train_best = X.iloc[splits[best_fold_index][0]]\n",
    "y_train_best = y.iloc[splits[best_fold_index][0]]\n",
    "X_test_best = X.iloc[splits[best_fold_index][1]]\n",
    "y_test_best = y.iloc[splits[best_fold_index][1]]\n",
    "\n",
    "rf_model.fit(X_train_best, y_train_best)\n",
    "best_score = rf_model.score(X_test_best, y_test_best)\n",
    "print(\"Accuracy on best fold test set:\", best_score)\n"
   ]
  },
  {
   "cell_type": "code",
   "execution_count": 27,
   "id": "18dae416-a2e4-48cf-aa0c-cf6f6d0ce6ff",
   "metadata": {},
   "outputs": [
    {
     "name": "stdout",
     "output_type": "stream",
     "text": [
      "              precision    recall  f1-score   support\n",
      "\n",
      "           0       0.95      0.95      0.95        21\n",
      "           1       0.89      0.89      0.89         9\n",
      "\n",
      "    accuracy                           0.93        30\n",
      "   macro avg       0.92      0.92      0.92        30\n",
      "weighted avg       0.93      0.93      0.93        30\n",
      "\n"
     ]
    }
   ],
   "source": [
    "y_pred = rf_model.predict(X_test_best)\n",
    "print(classification_report(y_test_best, y_pred))"
   ]
  },
  {
   "cell_type": "markdown",
   "id": "294158b3-a78e-4801-b7eb-5964b00037af",
   "metadata": {},
   "source": [
    "## RF model 10 K-Fold score with SMOTE"
   ]
  },
  {
   "cell_type": "code",
   "execution_count": 44,
   "id": "7fae6cb4-155f-486a-887e-4f28201ebd47",
   "metadata": {},
   "outputs": [
    {
     "name": "stdout",
     "output_type": "stream",
     "text": [
      "Best fold index: 3\n",
      "Best fold accuracy: 0.9666666666666667\n",
      "Accuracy on best fold test set with SMOTE: 0.9666666666666667\n"
     ]
    }
   ],
   "source": [
    "rf_model = RandomForestClassifier(max_depth=300, n_estimators=300, random_state=0)\n",
    "smote = SMOTE(random_state=42)\n",
    "\n",
    "scores = []\n",
    "splits = []\n",
    "\n",
    "for train_index, test_index in kfold.split(X, y):\n",
    "    X_train, y_train = X.iloc[train_index], y.iloc[train_index]\n",
    "    X_test, y_test = X.iloc[test_index], y.iloc[test_index]\n",
    "    X_train_smote, y_train_smote = smote.fit_resample(X_train, y_train)\n",
    "    rf_model.fit(X_train_smote, y_train_smote)\n",
    "    score = rf_model.score(X_test, y_test)\n",
    "    scores.append(score)\n",
    "    splits.append((train_index, test_index))\n",
    "\n",
    "scores = np.array(scores)\n",
    "best_fold_index_SMOTE = np.argmax(scores)\n",
    "print(\"Best fold index:\", best_fold_index_SMOTE)\n",
    "print(\"Best fold accuracy:\", scores[best_fold_index_SMOTE])\n",
    "\n",
    "X_train_best = X.iloc[splits[best_fold_index_SMOTE][0]]\n",
    "y_train_best = y.iloc[splits[best_fold_index_SMOTE][0]]\n",
    "X_test_best = X.iloc[splits[best_fold_index_SMOTE][1]]\n",
    "y_test_best = y.iloc[splits[best_fold_index_SMOTE][1]]\n",
    "\n",
    "X_train_best_smote, y_train_best_smote = smote.fit_resample(X_train_best, y_train_best)\n",
    "\n",
    "rf_model.fit(X_train_best_smote, y_train_best_smote)\n",
    "best_score = rf_model.score(X_test_best, y_test_best)\n",
    "print(\"Accuracy on best fold test set with SMOTE:\", best_score)"
   ]
  },
  {
   "cell_type": "code",
   "execution_count": 45,
   "id": "a6772236-a87b-45d7-8ad5-fc5d82f2bc71",
   "metadata": {},
   "outputs": [
    {
     "name": "stdout",
     "output_type": "stream",
     "text": [
      "              precision    recall  f1-score   support\n",
      "\n",
      "           0       1.00      0.95      0.97        20\n",
      "           1       0.91      1.00      0.95        10\n",
      "\n",
      "    accuracy                           0.97        30\n",
      "   macro avg       0.95      0.97      0.96        30\n",
      "weighted avg       0.97      0.97      0.97        30\n",
      "\n"
     ]
    }
   ],
   "source": [
    "y_pred = rf_model.predict(X_test_best)\n",
    "print(classification_report(y_test_best, y_pred))"
   ]
  },
  {
   "cell_type": "markdown",
   "id": "713be99b-8710-4b0d-b38d-489d712d6191",
   "metadata": {},
   "source": [
    "## Transfer Learning - RF model"
   ]
  },
  {
   "cell_type": "code",
   "execution_count": 58,
   "id": "3b22ffe3-45cb-4f9e-af40-58916f282fd7",
   "metadata": {},
   "outputs": [
    {
     "name": "stdout",
     "output_type": "stream",
     "text": [
      "Accuracy: 0.9667\n",
      "              precision    recall  f1-score   support\n",
      "\n",
      "           0       1.00      0.95      0.97        20\n",
      "           1       0.91      1.00      0.95        10\n",
      "\n",
      "    accuracy                           0.97        30\n",
      "   macro avg       0.95      0.97      0.96        30\n",
      "weighted avg       0.97      0.97      0.97        30\n",
      "\n"
     ]
    }
   ],
   "source": [
    "from sklearn.model_selection import cross_val_predict\n",
    "\n",
    "x_train_copy = pd.DataFrame(X_train_best_smote.copy())\n",
    "x_test_copy = pd.DataFrame(X_test_best.copy())\n",
    "\n",
    "train_proba_transfer = cross_val_predict(\n",
    "    rf_model,\n",
    "    X_train_best_smote,\n",
    "    y_train_best_smote,\n",
    "    cv=5,\n",
    "    method='predict_proba'\n",
    ")[:, 1]\n",
    "\n",
    "test_proba_transfer = rf_model.predict_proba(X_test_best)[:, 1]\n",
    "\n",
    "transfer_column = ['proba_from_best_model']\n",
    "prob_features_train = pd.DataFrame(train_proba_transfer, columns=transfer_column)\n",
    "prob_features_test = pd.DataFrame(test_proba_transfer, columns=transfer_column)\n",
    "\n",
    "X_train_transfered = pd.concat([x_train_copy.reset_index(drop=True), prob_features_train], axis=1)\n",
    "X_test_transfered = pd.concat([x_test_copy.reset_index(drop=True), prob_features_test], axis=1)\n",
    "\n",
    "rf_model_TL = RandomForestClassifier(max_depth=300, n_estimators=300, random_state=0)\n",
    "rf_model_TL.fit(X_train_transfered, y_train_best_smote)\n",
    "\n",
    "y_pred = rf_model_TL.predict(X_test_transfered)\n",
    "accuracy = accuracy_score(y_test_best, y_pred)\n",
    "print(f\"Accuracy: {accuracy:.4f}\")\n",
    "print(classification_report(y_test_best, y_pred))\n"
   ]
  },
  {
   "cell_type": "code",
   "execution_count": null,
   "id": "5dbbce74-9cb8-4b16-9d8f-aaa00abdc71c",
   "metadata": {},
   "outputs": [],
   "source": []
  },
  {
   "cell_type": "markdown",
   "id": "6ca485fb-6b46-44dc-96b7-d9e4a81ae04b",
   "metadata": {},
   "source": [
    "## Transfer Learning - XGB Classifier model"
   ]
  },
  {
   "cell_type": "code",
   "execution_count": 22,
   "id": "d64b9c95-dc1a-4007-8238-22a1b69fd975",
   "metadata": {},
   "outputs": [
    {
     "name": "stdout",
     "output_type": "stream",
     "text": [
      "Accuracy: 0.9333333333333333\n",
      "Classification Report:\n",
      "               precision    recall  f1-score   support\n",
      "\n",
      "           0       0.91      1.00      0.95        20\n",
      "           1       1.00      0.80      0.89        10\n",
      "\n",
      "    accuracy                           0.93        30\n",
      "   macro avg       0.95      0.90      0.92        30\n",
      "weighted avg       0.94      0.93      0.93        30\n",
      "\n"
     ]
    }
   ],
   "source": [
    "from xgboost import XGBClassifier\n",
    "xgb_model = XGBClassifier(use_label_encoder=False, eval_metric='logloss', random_state=0)\n",
    "xgb_model.fit(X_train_transfered, y_train_best_smote)\n",
    "\n",
    "y_pred = xgb_model.predict(X_test_transfered)\n",
    "\n",
    "print(\"Accuracy:\", accuracy_score(y_test_best, y_pred))\n",
    "print(\"Classification Report:\\n\", classification_report(y_test_best, y_pred))\n"
   ]
  },
  {
   "cell_type": "code",
   "execution_count": 23,
   "id": "2094111f-a5df-465e-85f8-6125b9508b02",
   "metadata": {},
   "outputs": [
    {
     "name": "stdout",
     "output_type": "stream",
     "text": [
      "Accuracy: 0.8237987987987987\n"
     ]
    }
   ],
   "source": [
    "from sklearn.model_selection import cross_val_predict\n",
    "rf_proba = cross_val_predict(rf_model,X_train_best_smote , y_train_best_smote, cv=10, method='predict_proba')[:, 1]\n",
    "X_transfered = X_train_best_smote.copy()\n",
    "X_transfered[\"rf_proba\"] = rf_proba\n",
    "\n",
    "xgb_model = XGBClassifier(use_label_encoder=False, eval_metric='logloss', random_state=0)\n",
    "scores = cross_val_score(xgb_model, X_transfered, y_train_best_smote, cv=10, scoring='accuracy')\n",
    "print(\"Accuracy:\", scores.mean())"
   ]
  },
  {
   "cell_type": "markdown",
   "id": "d779fde6-588c-4636-b112-d93042d2bcf6",
   "metadata": {},
   "source": [
    "## Transfer Learning - SVM model"
   ]
  },
  {
   "cell_type": "code",
   "execution_count": 24,
   "id": "b4d90690-69e6-4a46-b507-3bbd558be9a1",
   "metadata": {},
   "outputs": [
    {
     "name": "stdout",
     "output_type": "stream",
     "text": [
      "Accuracy: 0.6333333333333333\n",
      "Classification Report:\n",
      "               precision    recall  f1-score   support\n",
      "\n",
      "           0       0.68      0.85      0.76        20\n",
      "           1       0.40      0.20      0.27        10\n",
      "\n",
      "    accuracy                           0.63        30\n",
      "   macro avg       0.54      0.53      0.51        30\n",
      "weighted avg       0.59      0.63      0.59        30\n",
      "\n"
     ]
    }
   ],
   "source": [
    "from sklearn.svm import SVC\n",
    "from sklearn.model_selection import cross_val_score\n",
    "\n",
    "svm_model = SVC(probability=True, random_state=0)\n",
    "\n",
    "svm_model.fit(X_train_transfered, y_train_best_smote)\n",
    "\n",
    "y_pred = svm_model.predict(X_test_transfered)\n",
    "\n",
    "print(\"Accuracy:\", accuracy_score(y_test_best, y_pred))\n",
    "print(\"Classification Report:\\n\", classification_report(y_test_best, y_pred))\n"
   ]
  },
  {
   "cell_type": "markdown",
   "id": "5f1cc77e-3a20-49c9-81d6-443066117892",
   "metadata": {},
   "source": [
    "## Transfer Learning - KNN model"
   ]
  },
  {
   "cell_type": "code",
   "execution_count": 25,
   "id": "c2e8bfa6-4b36-4ab1-a8cf-97d96d620e6c",
   "metadata": {},
   "outputs": [
    {
     "name": "stdout",
     "output_type": "stream",
     "text": [
      "Accuracy: 0.5666666666666667\n",
      "Classification Report:\n",
      "               precision    recall  f1-score   support\n",
      "\n",
      "           0       0.67      0.70      0.68        20\n",
      "           1       0.33      0.30      0.32        10\n",
      "\n",
      "    accuracy                           0.57        30\n",
      "   macro avg       0.50      0.50      0.50        30\n",
      "weighted avg       0.56      0.57      0.56        30\n",
      "\n"
     ]
    }
   ],
   "source": [
    "from sklearn.neighbors import KNeighborsClassifier\n",
    "\n",
    "knn_model = KNeighborsClassifier(n_neighbors=9)\n",
    "\n",
    "knn_model.fit(X_train_transfered, y_train_best_smote)\n",
    "y_pred = knn_model.predict(X_test_transfered)\n",
    "\n",
    "print(\"Accuracy:\", accuracy_score(y_test_best, y_pred))\n",
    "print(\"Classification Report:\\n\", classification_report(y_test_best, y_pred))"
   ]
  },
  {
   "cell_type": "markdown",
   "id": "421c3a2f-809a-4bfb-bfcf-83b338622ef4",
   "metadata": {},
   "source": [
    "## Transfer Learning - GB model"
   ]
  },
  {
   "cell_type": "code",
   "execution_count": 26,
   "id": "0e13cee6-7f82-4dc4-8c4f-82355892fcba",
   "metadata": {},
   "outputs": [
    {
     "name": "stdout",
     "output_type": "stream",
     "text": [
      "Accuracy: 0.9666666666666667\n",
      "Classification Report:\n",
      "               precision    recall  f1-score   support\n",
      "\n",
      "           0       0.95      1.00      0.98        20\n",
      "           1       1.00      0.90      0.95        10\n",
      "\n",
      "    accuracy                           0.97        30\n",
      "   macro avg       0.98      0.95      0.96        30\n",
      "weighted avg       0.97      0.97      0.97        30\n",
      "\n"
     ]
    }
   ],
   "source": [
    "from sklearn.ensemble import GradientBoostingClassifier\n",
    "\n",
    "GB_model = GradientBoostingClassifier(n_estimators=100, learning_rate=1.0, max_depth=4, random_state=0)\n",
    "\n",
    "GB_model.fit(X_train_transfered, y_train_best_smote)\n",
    "y_pred = GB_model.predict(X_test_transfered)\n",
    "\n",
    "print(\"Accuracy:\", accuracy_score(y_test_best, y_pred))\n",
    "print(\"Classification Report:\\n\", classification_report(y_test_best, y_pred))"
   ]
  },
  {
   "cell_type": "code",
   "execution_count": null,
   "id": "987b884b-5b5a-40a8-99e4-d1eee612c5f3",
   "metadata": {},
   "outputs": [],
   "source": []
  },
  {
   "cell_type": "code",
   "execution_count": null,
   "id": "2f5aea1f-1bae-4c02-9783-98c29a073dc3",
   "metadata": {},
   "outputs": [],
   "source": []
  },
  {
   "cell_type": "code",
   "execution_count": null,
   "id": "be102c67-b5a5-45fe-93fb-a06ebfe175a1",
   "metadata": {},
   "outputs": [],
   "source": []
  },
  {
   "cell_type": "code",
   "execution_count": null,
   "id": "b60aec58-74fb-4a91-8d26-0f8865d85880",
   "metadata": {},
   "outputs": [],
   "source": []
  }
 ],
 "metadata": {
  "kernelspec": {
   "display_name": "Python [conda env:Project]",
   "language": "python",
   "name": "conda-env-Project-py"
  },
  "language_info": {
   "codemirror_mode": {
    "name": "ipython",
    "version": 3
   },
   "file_extension": ".py",
   "mimetype": "text/x-python",
   "name": "python",
   "nbconvert_exporter": "python",
   "pygments_lexer": "ipython3",
   "version": "3.12.9"
  }
 },
 "nbformat": 4,
 "nbformat_minor": 5
}
